{
 "cells": [
  {
   "cell_type": "code",
   "execution_count": 1,
   "metadata": {},
   "outputs": [],
   "source": [
    "from turtle import Turtle\n",
    "ALIGNMENT = \"center\"\n",
    "FONT = (\"Courier\", 80, \"normal\")\n",
    "\n",
    "\n",
    "class Scoreboard(Turtle):\n",
    "    def __init__(self):\n",
    "        super().__init__()\n",
    "        self.l_score = 0\n",
    "        self.r_score = 0\n",
    "        self.color(\"white\")\n",
    "        self.penup()\n",
    "        self.hideturtle()\n",
    "        self.update_scoreboard()\n",
    "\n",
    "    \n",
    "    def update_scoreboard(self):\n",
    "        self.clear()\n",
    "        self.goto(-100, 200)\n",
    "        self.write(f\"{self.l_score}\", move=False, align= ALIGNMENT, font= FONT)\n",
    "        self.goto(100, 200)\n",
    "        self.write(f\"{self.r_score}\", move=False, align= ALIGNMENT, font= FONT)\n",
    "        \n",
    "        \n",
    "    \n",
    "    def game_over(self):\n",
    "        self.goto(0, 0)\n",
    "        self.write(\"Game Over\", move=False, align= ALIGNMENT, font= FONT)\n",
    "        \n",
    "             \n",
    "    def increase_l_score(self):\n",
    "        self.l_score += 1 \n",
    "        self.update_scoreboard()\n",
    "    \n",
    "    def increase_r_score(self):\n",
    "        self.r_score += 1 \n",
    "        self.update_scoreboard()"
   ]
  },
  {
   "cell_type": "code",
   "execution_count": null,
   "metadata": {},
   "outputs": [],
   "source": []
  }
 ],
 "metadata": {
  "kernelspec": {
   "display_name": "Python 3",
   "language": "python",
   "name": "python3"
  },
  "language_info": {
   "codemirror_mode": {
    "name": "ipython",
    "version": 3
   },
   "file_extension": ".py",
   "mimetype": "text/x-python",
   "name": "python",
   "nbconvert_exporter": "python",
   "pygments_lexer": "ipython3",
   "version": "3.8.5"
  }
 },
 "nbformat": 4,
 "nbformat_minor": 4
}
