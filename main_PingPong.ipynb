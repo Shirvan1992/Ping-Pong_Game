{
 "cells": [
  {
   "cell_type": "markdown",
   "metadata": {},
   "source": [
    "# Ping-Pong Game"
   ]
  },
  {
   "cell_type": "code",
   "execution_count": 1,
   "metadata": {},
   "outputs": [],
   "source": [
    "from turtle import Turtle, Screen\n",
    "import time\n",
    "%run paddle.ipynb\n",
    "%run ball.ipynb\n",
    "%run scoreboard.ipynb\n",
    "\n",
    "\n",
    "\n",
    "\n",
    "screen = Screen()\n",
    "screen.setup(width = 800, height = 600)\n",
    "screen.bgcolor(\"black\")\n",
    "screen.title(\"Ping-Pong Game\")\n",
    "screen.tracer(0)\n",
    "\n",
    "\n",
    "r_paddle = Paddle(350, 0)\n",
    "l_paddle = Paddle(-350, 0)\n",
    "ball = Ball()\n",
    "scoreboard = Scoreboard()\n",
    "\n",
    "screen.listen()\n",
    "screen.onkey(r_paddle.go_up, \"Up\")\n",
    "screen.onkey(r_paddle.go_down, \"Down\")\n",
    "screen.onkey(l_paddle.go_up, \"w\")\n",
    "screen.onkey(l_paddle.go_down, \"s\")\n",
    "\n",
    "\n",
    "sleep_time = 0.1\n",
    "game_is_on = True\n",
    "while game_is_on and sleep_time >= 0:\n",
    "    time.sleep(sleep_time)\n",
    "    screen.update()\n",
    "    ball.move()\n",
    "    \n",
    "    # detect collision with wall\n",
    "    if ball.ycor() > 280 or ball.ycor() < -280:\n",
    "        ball.bounce_y()\n",
    "    \n",
    "    # detect collision with paddle\n",
    "    if ball.distance(r_paddle) < 50 and ball.xcor() > 320 or ball.distance(l_paddle) < 50 and ball.xcor() < -320:\n",
    "        ball.bounce_x()\n",
    "\n",
    "    # detect Right paddle misses the ball\n",
    "    if ball.xcor() > 380:\n",
    "        ball.reset_position()\n",
    "        scoreboard.increase_l_score()\n",
    "        sleep_time -= 0.01\n",
    "    \n",
    "    # detect Left paddle misses the balls\n",
    "    if ball.xcor() < -380:\n",
    "        ball.reset_position()\n",
    "        scoreboard.increase_r_score()\n",
    "        sleep_time -= 0.01\n",
    "\n",
    "scoreboard.game_over()\n",
    "    \n",
    "    \n",
    "screen.exitonclick()"
   ]
  },
  {
   "cell_type": "code",
   "execution_count": null,
   "metadata": {},
   "outputs": [],
   "source": []
  }
 ],
 "metadata": {
  "kernelspec": {
   "display_name": "Python 3",
   "language": "python",
   "name": "python3"
  },
  "language_info": {
   "codemirror_mode": {
    "name": "ipython",
    "version": 3
   },
   "file_extension": ".py",
   "mimetype": "text/x-python",
   "name": "python",
   "nbconvert_exporter": "python",
   "pygments_lexer": "ipython3",
   "version": "3.8.5"
  }
 },
 "nbformat": 4,
 "nbformat_minor": 4
}
